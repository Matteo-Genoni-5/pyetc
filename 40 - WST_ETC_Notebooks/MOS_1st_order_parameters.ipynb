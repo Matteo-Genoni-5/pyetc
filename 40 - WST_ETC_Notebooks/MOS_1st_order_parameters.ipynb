{
 "cells": [
  {
   "cell_type": "code",
   "execution_count": 1,
   "id": "manufactured-germany",
   "metadata": {},
   "outputs": [],
   "source": [
    "import numpy as np\n",
    "import matplotlib.pyplot as plt\n",
    "from cycler import cycler\n",
    "plt.rcParams.update({'font.size': 16})\n",
    "plt.rcParams['axes.prop_cycle'] = (cycler(color=['tab:blue', 'tab:green', 'tab:orange', 'tab:red']))\n",
    "\n",
    "sig2fwhm = 2.355"
   ]
  },
  {
   "cell_type": "code",
   "execution_count": 16,
   "id": "d58e88bd-a2e3-4255-b600-9a81cfdf92c2",
   "metadata": {},
   "outputs": [],
   "source": [
    "def split(lbrange, nchan):\n",
    "    waves = 1./np.linspace(1/lbrange[0],1/lbrange[1],nchan+1)\n",
    "    return waves"
   ]
  },
  {
   "cell_type": "code",
   "execution_count": 6,
   "id": "775fa2bf-c06d-46f5-844f-a28b0e1a6c07",
   "metadata": {},
   "outputs": [],
   "source": [
    "def comp_mos(par):\n",
    "    foctel = par['ftel'] * par['dtel'] # mm, telescope focal length\n",
    "    fcoll = par['ftel'] * par['frd'] # collimator F-ratio\n",
    "    thpix = np.rad2deg(par['frd'] * par['dpix'] / (par['dtel'] * par['fcam'])) * 3600 # arcsec, sky-projected pixel pitch\n",
    "    dfib = foctel * np.deg2rad(par['thfib'] / 3600) # mm, fiber core diameter\n",
    "    dfib_px = par['thfib'] / thpix # px, fiber core diameter\n",
    "    mag = par['fcam'] / fcoll # spectrograph magnification\n",
    "    nfib = (par['nspix'] - 2 * par['marg_px']) / (dfib_px + par['dark_px']) # max number of fibers/spectrograph\n",
    "    pfib = dfib + par['dark_px'] * par['dpix'] / mag # mm, fiber pitch\n",
    "    lslit = nfib * pfib # mm, max slit length\n",
    "    fwhm_px = dfib_px * ((3**0.5 / 2)**2 + (par['iq'] * sig2fwhm)**2)**0.5 # px, fiber core FWHM (incl. IQ)\n",
    "    res = dict(foctel=foctel, fcoll=fcoll, thpix=thpix, dfib=dfib, dfib_px=dfib_px, mag=mag,\n",
    "               nfib=nfib, pfib=pfib, lslit=lslit, fwhm_px=fwhm_px)\n",
    "    return res   "
   ]
  },
  {
   "cell_type": "code",
   "execution_count": 3,
   "id": "076759d5-826a-4291-a960-3eb233477129",
   "metadata": {},
   "outputs": [],
   "source": [
    "def print_res(res, par):\n",
    "    print('*** spectrograph ***')\n",
    "    for path in par['paths']:\n",
    "        lmin, lmax = path\n",
    "        lcen = (lmin + lmax) / 2\n",
    "        pix2nm = (lmax - lmin) / (par['ndpix'] - 2 * par['marg_px']) # nm / px\n",
    "        dl = res['fwhm_px'] * pix2nm\n",
    "        Rmin = lmin / dl\n",
    "        Rcen = lcen / dl\n",
    "        Rmax = lmax / dl\n",
    "        foct = (lmax - lmin)/(lmin)\n",
    "        print('Rmin({:.0f} nm) | Rcen({:.0f} nm) | Rmax({:.0f} nm) | Frac Oct | {:.0f} | {:.0f} | {:.0f} | {:.2f}'.format(lmin, lcen, lmax, Rmin, Rcen, Rmax, foct))\n",
    "    print('spectrograph magnification: {:.2f}'.format(res['mag']))\n",
    "    print('collimator F-ratio: {:.2f}'.format(res['fcoll']))\n",
    "    print('camera F-ratio: {:.2f}'.format(par['fcam']))\n",
    "    print('')\n",
    "\n",
    "\n",
    "    print('*** telescope parameters ***')\n",
    "    print('telescope diameter: {:.0f} mm'.format(par['dtel']))\n",
    "    print('telescope F-ratio: {:.2f}'.format(par['ftel']))\n",
    "    print('')\n",
    "\n",
    "    print('*** fiber parameters ***')\n",
    "    print('fiber core diameter (on-sky | physical | image): {:.2f} arcsec | {:.3f} mm | {:.2f} px'.format(par['thfib'], res['dfib'], res['dfib_px']))\n",
    "    print('fiber pitch: {:.3f} mm'.format(res['pfib']))\n",
    "    print('max number of fibers/spectrograph: {:.0f}'.format(res['nfib']))\n",
    "    print('max slit length: {:.2f} mm'.format(res['lslit']))\n",
    "\n",
    "    print('number of dark pixels between adjacent fiber cores: {:.1f} px'.format(par['dark_px']))\n",
    "    print('focal ratio degradation: {:.2f}'.format(par['frd']))\n",
    "    print('LSF FWHM in pixel: {:.2f}'.format(res['fwhm_px']))\n",
    "    print('')\n",
    "\n",
    "    print('*** detector parameters ***')\n",
    "    print('detector format (spatial x spectral / pitch): {:.0f} x {:.0f} / {:.3f} mm'.format(par['nspix'], par['ndpix'], par['dpix']))\n",
    "    print('sky-projected pixel pitch: {:.2f} arcsec'.format(res['thpix']))\n",
    "    print('alignment margin (physical | image): {:.2f} mm | {:.0f} px wide pixel band around detector edges'.format(par['marg_px'] * par['dpix'], par['marg_px']))\n"
   ]
  },
  {
   "cell_type": "code",
   "execution_count": 4,
   "id": "7a4b81ea-e169-49bb-9ebc-747d85b7bf5e",
   "metadata": {},
   "outputs": [],
   "source": [
    "def compare_res(reslist, parlist, names):\n",
    "    print('*** spectrograph ***')\n",
    "    for res,par,name in zip(reslist,parlist,names):\n",
    "        for path in par['paths']:\n",
    "            lmin, lmax = path\n",
    "            lcen = (lmin + lmax) / 2\n",
    "            pix2nm = (lmax - lmin) / (par['ndpix'] - 2 * par['marg_px']) # nm / px\n",
    "            dl = res['fwhm_px'] * pix2nm\n",
    "            Rmin = lmin / dl\n",
    "            Rcen = lcen / dl\n",
    "            Rmax = lmax / dl\n",
    "            foct = (lmax - lmin)/(lmin)\n",
    "            print('{} Rmin({:.0f} nm) | Rcen({:.0f} nm) | Rmax({:.0f} nm) | Frac Oct | {:.0f} | {:.0f} | {:.0f} | {:.2f}'.format(name,lmin, lcen, lmax, Rmin, Rcen, Rmax, foct))\n",
    "        print(' ')   \n",
    "    txt = [f\"{name}: {res['mag']:.2f} \" for name,res in zip(names,reslist)]\n",
    "    print(\"spectrograph magnification \", *txt)\n",
    "    txt = [f\"{name}: {par['fcoll']:.2f} \" for name,par in zip(names,reslist)]\n",
    "    print(\"collimator F-ratio \", *txt)\n",
    "    txt = [f\"{name}: {par['fcam']:.2f} \" for name,par in zip(names,parlist)]\n",
    "    print(\"camera F-ratio \", *txt)\n",
    "    print('')\n",
    "\n",
    "    print('*** telescope parameters ***')\n",
    "    txt = [f\"{name}: {par['dtel']/1000:.2f} m \" for name,par in zip(names,parlist)]\n",
    "    print('telescope diameter ', *txt)\n",
    "    txt = [f\"{name}: {par['ftel']:.2f} \" for name,par in zip(names,parlist)]\n",
    "    print('telescope F-ratio ', *txt)\n",
    "    print('')\n",
    "    \n",
    "    print('*** fiber parameters ***')\n",
    "    txt = [f\"{name}: {par['thfib']:.2f} arcsec\" for name,par in zip(names,parlist)]\n",
    "    print('fiber core diameter on-sky ', *txt)\n",
    "    txt = [f\"{name}:  {res['dfib']*1000:.0f} microns \" for name,res in zip(names,reslist)]\n",
    "    print('fiber core diameter physical ', *txt)\n",
    "    txt = [f\"{name}: {res['dfib_px']:.2f} px\" for name,res in zip(names,reslist)]\n",
    "    print('fiber core diameter image ', *txt)\n",
    "    txt = [f\"{name}: {res['pfib']*1000:.0f} microns\" for name,res in zip(names,reslist)]\n",
    "    print('fiber pitch ', *txt)\n",
    "    txt = [f\"{name}: {res['nfib']:.0f} \" for name,res in zip(names,reslist)]\n",
    "    print('max number of fibers/spectrograph ', *txt)\n",
    "    txt = [f\"{name}: {res['lslit']:.1f} mm \" for name,res in zip(names,reslist)]\n",
    "    print('max slit length', *txt)\n",
    "    txt = [f\"{name}: {par['dark_px']:.1f} px \" for name,par in zip(names,parlist)]\n",
    "    print('number of dark pixels between adjacent fiber cores ', *txt)\n",
    "    txt = [f\"{name}: {par['frd']:.2f} \" for name,par in zip(names,parlist)]\n",
    "    print('focal ratio degradation ', *txt)\n",
    "    txt = [f\"{name}: {res['fwhm_px']:.2f} px \" for name,res in zip(names,reslist)]\n",
    "    print('LSF FWHM ', *txt)\n",
    "    print('')\n",
    "    \n",
    "    print('*** detector parameters ***')\n",
    "    txt = [f\"{name}: {par['nspix']}x{par['ndpix']}/{par['dpix']*1000:.0f}mu \" for name,par in zip(names,parlist)]\n",
    "    print('detector format (spatial x spectral / pitch) ', *txt)\n",
    "    txt = [f\"{name}: {res['thpix']:.2f} arcsec \" for name,res in zip(names,reslist)]\n",
    "    print('sky-projected pixel pitch ', *txt)\n",
    "    txt = [f\"{name}: {1000*(par['marg_px'] * par['dpix']):.0f} microns\" for name,par in zip(names,parlist)]\n",
    "    print('alignment margin (physical) ', *txt)\n",
    "    txt = [f\"{name}: {par['marg_px'] * par['marg_px']:.0f} px\" for name,par in zip(names,parlist)]\n",
    "    print('alignment margin (image) ', *txt)\n",
    "    print('')\n",
    "    \n",
    "    print('*** numbers for 20k fibers ***')\n",
    "    txt = [f\"{name}: {20000/res['nfib']:.1f} \" for name,res in zip(names,reslist)]\n",
    "    print('number of spectrograph ', *txt)\n",
    "    txt = [f\"{name}: {len(par['paths'])*20000/res['nfib']:.1f} \" for name,res,par in zip(names,reslist,parlist)]\n",
    "    print('number of detectors ', *txt)\n",
    "\n",
    "\n",
    "\n",
    " "
   ]
  },
  {
   "cell_type": "markdown",
   "id": "starting-bangladesh",
   "metadata": {
    "tags": []
   },
   "source": [
    "# 4MOST-LRS case\n",
    "\n",
    "Input values from LRS Analysis & Performance Report + MAIT Plan (Issue 4) and 4MOST User Manual (Issue 2)"
   ]
  },
  {
   "cell_type": "code",
   "execution_count": 7,
   "id": "worse-formula",
   "metadata": {
    "tags": []
   },
   "outputs": [
    {
     "name": "stdout",
     "output_type": "stream",
     "text": [
      "*** spectrograph ***\n",
      "Rmin(370 nm) | Rcen(462 nm) | Rmax(554 nm) | Frac Oct | 3920 | 4895 | 5870 | 0.50\n",
      "Rmin(524 nm) | Rcen(622 nm) | Rmax(721 nm) | Frac Oct | 5186 | 6160 | 7135 | 0.38\n",
      "Rmin(691 nm) | Rcen(820 nm) | Rmax(950 nm) | Frac Oct | 5201 | 6176 | 7151 | 0.37\n",
      "spectrograph magnification: 0.57\n",
      "collimator F-ratio: 3.02\n",
      "camera F-ratio: 1.73\n",
      "\n",
      "*** telescope parameters ***\n",
      "telescope diameter: 4100 mm\n",
      "telescope F-ratio: 3.28\n",
      "\n",
      "*** fiber parameters ***\n",
      "fiber core diameter (on-sky | physical | image): 1.40 arcsec | 0.091 mm | 3.49 px\n",
      "fiber pitch: 0.170 mm\n",
      "max number of fibers/spectrograph: 941\n",
      "max slit length: 159.71 mm\n",
      "number of dark pixels between adjacent fiber cores: 3.0 px\n",
      "focal ratio degradation: 0.92\n",
      "LSF FWHM in pixel: 3.13\n",
      "\n",
      "*** detector parameters ***\n",
      "detector format (spatial x spectral / pitch): 6144 x 6144 / 0.015 mm\n",
      "sky-projected pixel pitch: 0.40 arcsec\n",
      "alignment margin (physical | image): 0.30 mm | 20 px wide pixel band around detector edges\n"
     ]
    }
   ],
   "source": [
    "mospar = dict(\n",
    "# telescope parameters\n",
    "dtel = 4100, # mm, telescope diameter\n",
    "ftel = 3.28, # telescope F-ratio\n",
    "# fiber parameters\n",
    "thfib = 1.40, # arcsec, sky-projected fiber core diameter\n",
    "dark_px = 3.0, # number of dark pixels between adjacent fiber cores -- guessed\n",
    "marg_px = 20, # px, alignment margin (pixel band around detector edges) -- guessed\n",
    "frd = 0.92, # focal ratio degradation -- guessed\n",
    "# spectrograph parameters\n",
    "paths = [(370, 554),\n",
    "         (524, 721),\n",
    "         (691, 950)], # nm, spectral path (lmin, lmax)\n",
    "fcam = 1.73, # camera F-ratio\n",
    "iq = 0.10, # spot radius RMS / fiber core image diameter ratio -- guessed\n",
    "# detector parameters\n",
    "dpix = 0.015, # mm, pixel pitch\n",
    "nspix = 6144, # number of pixels along the *spatial* axis\n",
    "ndpix = 6144, # number of pixels along the *dispersion* axis\n",
    ")\n",
    "res = comp_mos(mospar)\n",
    "print_res(res, mospar)"
   ]
  },
  {
   "cell_type": "markdown",
   "id": "remarkable-lexington",
   "metadata": {
    "tags": []
   },
   "source": [
    "# DESI case\n",
    "\n",
    "Input values from https://arxiv.org/abs/1611.00037"
   ]
  },
  {
   "cell_type": "code",
   "execution_count": 8,
   "id": "pleasant-bahrain",
   "metadata": {},
   "outputs": [
    {
     "name": "stdout",
     "output_type": "stream",
     "text": [
      "*** spectrograph ***\n",
      "Rmin(360 nm) | Rcen(476 nm) | Rmax(593 nm) | Frac Oct | 1939 | 2567 | 3195 | 0.65\n",
      "Rmin(566 nm) | Rcen(669 nm) | Rmax(772 nm) | Frac Oct | 3449 | 4076 | 4704 | 0.36\n",
      "Rmin(747 nm) | Rcen(864 nm) | Rmax(980 nm) | Frac Oct | 4024 | 4652 | 5279 | 0.31\n",
      "spectrograph magnification: 0.47\n",
      "collimator F-ratio: 3.59\n",
      "camera F-ratio: 1.70\n",
      "\n",
      "*** telescope parameters ***\n",
      "telescope diameter: 3800 mm\n",
      "telescope F-ratio: 3.86\n",
      "\n",
      "*** fiber parameters ***\n",
      "fiber core diameter (on-sky | physical | image): 1.46 arcsec | 0.104 mm | 3.28 px\n",
      "fiber pitch: 0.231 mm\n",
      "max number of fibers/spectrograph: 557\n",
      "max slit length: 128.47 mm\n",
      "number of dark pixels between adjacent fiber cores: 4.0 px\n",
      "focal ratio degradation: 0.93\n",
      "LSF FWHM in pixel: 3.23\n",
      "\n",
      "*** detector parameters ***\n",
      "detector format (spatial x spectral / pitch): 4096 x 4096 / 0.015 mm\n",
      "sky-projected pixel pitch: 0.45 arcsec\n",
      "alignment margin (physical | image): 0.30 mm | 20 px wide pixel band around detector edges\n"
     ]
    }
   ],
   "source": [
    "mospar = dict(\n",
    "# telescope parameters\n",
    "dtel = 3800, # mm, telescope diameter\n",
    "ftel = 3.86, # telescope F-ratio\n",
    "# fiber parameters\n",
    "thfib = 1.46, # arcsec, sky-projected fiber core diameter\n",
    "dark_px = 4.0, # number of dark pixels between adjacent fiber cores -- guessed\n",
    "marg_px = 20, # px, alignment margin (pixel band around detector edges) -- guessed\n",
    "frd = 0.93, # focal ratio degradation\n",
    "# spectrograph parameters\n",
    "paths = [(360, 593),\n",
    "         (566, 772),\n",
    "         (747, 980)], # nm, spectral path (lmin, lmax)\n",
    "fcam = 1.70, # camera F-ratio\n",
    "iq = 0.20, # spot radius RMS / fiber core image diameter ratio -- guessed\n",
    "# detector parameters\n",
    "dpix = 0.015, # mm, pixel pitch\n",
    "nspix = 4096, # number of pixels along the *spatial* axis\n",
    "ndpix = 4096, # number of pixels along the *dispersion* axis\n",
    ")\n",
    "res = comp_mos(mospar)\n",
    "print_res(res, mospar)"
   ]
  },
  {
   "cell_type": "markdown",
   "id": "characteristic-intersection",
   "metadata": {
    "tags": []
   },
   "source": [
    "# WST case (6k x 6k, 15 um detector - 2 paths)"
   ]
  },
  {
   "cell_type": "code",
   "execution_count": 9,
   "id": "revised-economy",
   "metadata": {},
   "outputs": [
    {
     "name": "stdout",
     "output_type": "stream",
     "text": [
      "*** spectrograph ***\n",
      "Rmin(350 nm) | Rcen(485 nm) | Rmax(620 nm) | Frac Oct | 1906 | 2642 | 3377 | 0.77\n",
      "Rmin(600 nm) | Rcen(785 nm) | Rmax(970 nm) | Frac Oct | 2385 | 3120 | 3855 | 0.62\n",
      "spectrograph magnification: 0.38\n",
      "collimator F-ratio: 2.66\n",
      "camera F-ratio: 1.00\n",
      "\n",
      "*** telescope parameters ***\n",
      "telescope diameter: 11650 mm\n",
      "telescope F-ratio: 2.80\n",
      "\n",
      "*** fiber parameters ***\n",
      "fiber core diameter (on-sky | physical | image): 1.00 arcsec | 0.158 mm | 3.96 px\n",
      "fiber pitch: 0.318 mm\n",
      "max number of fibers/spectrograph: 766\n",
      "max slit length: 243.55 mm\n",
      "number of dark pixels between adjacent fiber cores: 4.0 px\n",
      "focal ratio degradation: 0.95\n",
      "LSF FWHM in pixel: 4.15\n",
      "\n",
      "*** detector parameters ***\n",
      "detector format (spatial x spectral / pitch): 6144 x 6144 / 0.015 mm\n",
      "sky-projected pixel pitch: 0.25 arcsec\n",
      "alignment margin (physical | image): 0.30 mm | 20 px wide pixel band around detector edges\n"
     ]
    }
   ],
   "source": [
    "mospar1 = dict(\n",
    "# telescope parameters\n",
    "dtel = 11650, # mm, telescope diameter\n",
    "ftel = 2.8, # telescope F-ratio\n",
    "# fiber parameters\n",
    "thfib = 1.0, # arcsec, sky-projected fiber core diameter\n",
    "dark_px = 4.0, # number of dark pixels between adjacent fiber cores\n",
    "marg_px = 20, # px, alignment margin (pixel band around detector edges)\n",
    "frd = 0.95, # focal ratio degradation\n",
    "# spectrograph parameters\n",
    "paths = [(350, 620),\n",
    "         (600, 970)], # nm, spectral path (lmin, lmax)\n",
    "fcam = 1.0, # camera F-ratio\n",
    "iq = 0.25, # spot radius RMS / fiber core image diameter ratio\n",
    "# detector parameters\n",
    "dpix = 0.015, # mm, pixel pitch\n",
    "nspix = 6144, # number of pixels along the *spatial* axis\n",
    "ndpix = 6144 # number of pixels along the *dispersion* axis\n",
    ")\n",
    "res1 = comp_mos(mospar1)\n",
    "print_res(res1, mospar1)"
   ]
  },
  {
   "cell_type": "markdown",
   "id": "considered-startup",
   "metadata": {
    "tags": []
   },
   "source": [
    "# WST case (4k x 4k, 15 um detector - 4 paths)"
   ]
  },
  {
   "cell_type": "code",
   "execution_count": 38,
   "id": "recent-campbell",
   "metadata": {},
   "outputs": [
    {
     "name": "stdout",
     "output_type": "stream",
     "text": [
      "*** spectrograph ***\n",
      "Rmin(370 nm) | Rcen(430 nm) | Rmax(490 nm) | Frac Oct | 3013 | 3502 | 3990 | 0.32\n",
      "Rmin(470 nm) | Rcen(540 nm) | Rmax(610 nm) | Frac Oct | 3281 | 3769 | 4258 | 0.30\n",
      "Rmin(590 nm) | Rcen(675 nm) | Rmax(760 nm) | Frac Oct | 3391 | 3880 | 4369 | 0.29\n",
      "Rmin(740 nm) | Rcen(855 nm) | Rmax(970 nm) | Frac Oct | 3144 | 3633 | 4121 | 0.31\n",
      "spectrograph magnification: 0.38\n",
      "collimator F-ratio: 2.66\n",
      "camera F-ratio: 1.00\n",
      "\n",
      "*** telescope parameters ***\n",
      "telescope diameter: 11650 mm\n",
      "telescope F-ratio: 2.80\n",
      "\n",
      "*** fiber parameters ***\n",
      "fiber core diameter (on-sky | physical | image): 1.00 arcsec | 0.158 mm | 3.96 px\n",
      "fiber pitch: 0.318 mm\n",
      "max number of fibers/spectrograph: 509\n",
      "max slit length: 161.83 mm\n",
      "number of dark pixels between adjacent fiber cores: 4.0 px\n",
      "focal ratio degradation: 0.95\n",
      "LSF FWHM in pixel: 4.15\n",
      "\n",
      "*** detector parameters ***\n",
      "detector format (spatial x spectral / pitch): 4096 x 4096 / 0.015 mm\n",
      "sky-projected pixel pitch: 0.25 arcsec\n",
      "alignment margin (physical | image): 0.30 mm | 20 px wide pixel band around detector edges\n"
     ]
    }
   ],
   "source": [
    "over = 10\n",
    "l0,l1,l2,l3,l4 = (370,480,600,750,970)\n",
    "mospar2 = dict(\n",
    "# telescope parameters\n",
    "dtel = 11650, # mm, telescope diameter\n",
    "ftel = 2.8, # telescope F-ratio\n",
    "# fiber parameters\n",
    "thfib = 1.0, # arcsec, sky-projected fiber core diameter\n",
    "dark_px = 4.0, # number of dark pixels between adjacent fiber cores\n",
    "marg_px = 20, # px, alignment margin (pixel band around detector edges)\n",
    "frd = 0.95, # focal ratio degradation\n",
    "# spectrograph parameters\n",
    "paths = [(l0, l1+over),\n",
    "         (l1-over, l2+over),\n",
    "         (l2-over, l3+over),\n",
    "         (l3-over, l4)], # nm, spectral path (lmin, lmax)\n",
    "fcam = 1.0, # camera F-ratio\n",
    "iq = 0.25, # spot radius RMS / fiber core image diameter ratio\n",
    "# detector parameters\n",
    "dpix = 0.015, # mm, pixel pitch\n",
    "nspix = 4096, # number of pixels along the *spatial* axis\n",
    "ndpix = 4096, # number of pixels along the *dispersion* axis\n",
    ")\n",
    "res2 = comp_mos(mospar2)\n",
    "print_res(res2, mospar2)"
   ]
  },
  {
   "cell_type": "markdown",
   "id": "28753c08-ad10-47f7-ba15-4ff981d2348d",
   "metadata": {
    "tags": []
   },
   "source": [
    "# WST case (6k x 6k, 15 um detector - 4 paths)"
   ]
  },
  {
   "cell_type": "code",
   "execution_count": 39,
   "id": "46473da8-e37f-4fcf-b65d-8da3efa5481d",
   "metadata": {},
   "outputs": [
    {
     "name": "stdout",
     "output_type": "stream",
     "text": [
      "*** spectrograph ***\n",
      "Rmin(370 nm) | Rcen(430 nm) | Rmax(490 nm) | Frac Oct | 4534 | 5270 | 6005 | 0.32\n",
      "Rmin(470 nm) | Rcen(540 nm) | Rmax(610 nm) | Frac Oct | 4937 | 5672 | 6408 | 0.30\n",
      "Rmin(590 nm) | Rcen(675 nm) | Rmax(760 nm) | Frac Oct | 5104 | 5839 | 6575 | 0.29\n",
      "Rmin(740 nm) | Rcen(855 nm) | Rmax(970 nm) | Frac Oct | 4732 | 5467 | 6202 | 0.31\n",
      "spectrograph magnification: 0.38\n",
      "collimator F-ratio: 2.66\n",
      "camera F-ratio: 1.00\n",
      "\n",
      "*** telescope parameters ***\n",
      "telescope diameter: 11650 mm\n",
      "telescope F-ratio: 2.80\n",
      "\n",
      "*** fiber parameters ***\n",
      "fiber core diameter (on-sky | physical | image): 1.00 arcsec | 0.158 mm | 3.96 px\n",
      "fiber pitch: 0.318 mm\n",
      "max number of fibers/spectrograph: 766\n",
      "max slit length: 243.55 mm\n",
      "number of dark pixels between adjacent fiber cores: 4.0 px\n",
      "focal ratio degradation: 0.95\n",
      "LSF FWHM in pixel: 4.15\n",
      "\n",
      "*** detector parameters ***\n",
      "detector format (spatial x spectral / pitch): 6144 x 6144 / 0.015 mm\n",
      "sky-projected pixel pitch: 0.25 arcsec\n",
      "alignment margin (physical | image): 0.30 mm | 20 px wide pixel band around detector edges\n"
     ]
    }
   ],
   "source": [
    "over = 10\n",
    "l0,l1,l2,l3,l4 = (370,480,600,750,970)\n",
    "mospar3 = dict(\n",
    "# telescope parameters\n",
    "dtel = 11650, # mm, telescope diameter\n",
    "ftel = 2.8, # telescope F-ratio\n",
    "# fiber parameters\n",
    "thfib = 1.0, # arcsec, sky-projected fiber core diameter\n",
    "dark_px = 4.0, # number of dark pixels between adjacent fiber cores\n",
    "marg_px = 20, # px, alignment margin (pixel band around detector edges)\n",
    "frd = 0.95, # focal ratio degradation\n",
    "# spectrograph parameters\n",
    "paths = [(l0, l1+over),\n",
    "         (l1-over, l2+over),\n",
    "         (l2-over, l3+over),\n",
    "         (l3-over, l4)], # nm, spectral path (lmin, lmax)\n",
    "fcam = 1.0, # camera F-ratio\n",
    "iq = 0.25, # spot radius RMS / fiber core image diameter ratio\n",
    "# detector parameters\n",
    "dpix = 0.015, # mm, pixel pitch\n",
    "nspix = 6144, # number of pixels along the *spatial* axis\n",
    "ndpix = 6144, # number of pixels along the *dispersion* axis\n",
    ")\n",
    "res3 = comp_mos(mospar3)\n",
    "print_res(res3, mospar3)"
   ]
  },
  {
   "cell_type": "markdown",
   "id": "cea96a51-6516-4e24-83de-348f948e18f2",
   "metadata": {
    "tags": []
   },
   "source": [
    "# WST case (4k x 4k, 15 um detector - 4 paths) with IR"
   ]
  },
  {
   "cell_type": "code",
   "execution_count": 14,
   "id": "47b5c773-3d60-41db-83f3-b4ade343f54f",
   "metadata": {},
   "outputs": [
    {
     "name": "stdout",
     "output_type": "stream",
     "text": [
      "*** spectrograph ***\n",
      "Rmin(370 nm) | Rcen(450 nm) | Rmax(530 nm) | Frac Oct | 2260 | 2748 | 3237 | 0.43\n",
      "Rmin(510 nm) | Rcen(610 nm) | Rmax(710 nm) | Frac Oct | 2492 | 2980 | 3469 | 0.39\n",
      "Rmin(700 nm) | Rcen(835 nm) | Rmax(970 nm) | Frac Oct | 2533 | 3022 | 3511 | 0.39\n",
      "Rmin(960 nm) | Rcen(1130 nm) | Rmax(1300 nm) | Frac Oct | 2759 | 3248 | 3736 | 0.35\n",
      "spectrograph magnification: 0.38\n",
      "collimator F-ratio: 2.66\n",
      "camera F-ratio: 1.00\n",
      "\n",
      "*** telescope parameters ***\n",
      "telescope diameter: 11650 mm\n",
      "telescope F-ratio: 2.80\n",
      "\n",
      "*** fiber parameters ***\n",
      "fiber core diameter (on-sky | physical | image): 1.00 arcsec | 0.158 mm | 3.96 px\n",
      "fiber pitch: 0.318 mm\n",
      "max number of fibers/spectrograph: 509\n",
      "max slit length: 161.83 mm\n",
      "number of dark pixels between adjacent fiber cores: 4.0 px\n",
      "focal ratio degradation: 0.95\n",
      "LSF FWHM in pixel: 4.15\n",
      "\n",
      "*** detector parameters ***\n",
      "detector format (spatial x spectral / pitch): 4096 x 4096 / 0.015 mm\n",
      "sky-projected pixel pitch: 0.25 arcsec\n",
      "alignment margin (physical | image): 0.30 mm | 20 px wide pixel band around detector edges\n"
     ]
    }
   ],
   "source": [
    "mospar4 = dict(\n",
    "# telescope parameters\n",
    "dtel = 11650, # mm, telescope diameter\n",
    "ftel = 2.8, # telescope F-ratio\n",
    "# fiber parameters\n",
    "thfib = 1.0, # arcsec, sky-projected fiber core diameter\n",
    "dark_px = 4.0, # number of dark pixels between adjacent fiber cores\n",
    "marg_px = 20, # px, alignment margin (pixel band around detector edges)\n",
    "frd = 0.95, # focal ratio degradation\n",
    "# spectrograph parameters\n",
    "paths = [(370, 530),\n",
    "         (510, 710),\n",
    "         (700, 970),\n",
    "         (960, 1300)], # nm, spectral path (lmin, lmax)\n",
    "fcam = 1.0, # camera F-ratio\n",
    "iq = 0.25, # spot radius RMS / fiber core image diameter ratio\n",
    "# detector parameters\n",
    "dpix = 0.015, # mm, pixel pitch\n",
    "nspix = 4096, # number of pixels along the *spatial* axis\n",
    "ndpix = 4096, # number of pixels along the *dispersion* axis\n",
    ")\n",
    "res4 = comp_mos(mospar4)\n",
    "print_res(res4, mospar4)"
   ]
  },
  {
   "cell_type": "markdown",
   "id": "5c7840c6-2bfa-4276-80fa-6dd97986116f",
   "metadata": {},
   "source": [
    "# Compare designs"
   ]
  },
  {
   "cell_type": "code",
   "execution_count": 40,
   "id": "61a130a5-1235-475d-b555-0b23dc39200b",
   "metadata": {
    "tags": []
   },
   "outputs": [
    {
     "name": "stdout",
     "output_type": "stream",
     "text": [
      "*** spectrograph ***\n",
      "mos6k2c Rmin(350 nm) | Rcen(485 nm) | Rmax(620 nm) | Frac Oct | 1906 | 2642 | 3377 | 0.77\n",
      "mos6k2c Rmin(600 nm) | Rcen(785 nm) | Rmax(970 nm) | Frac Oct | 2385 | 3120 | 3855 | 0.62\n",
      " \n",
      "mos4k4c Rmin(370 nm) | Rcen(430 nm) | Rmax(490 nm) | Frac Oct | 3013 | 3502 | 3990 | 0.32\n",
      "mos4k4c Rmin(470 nm) | Rcen(540 nm) | Rmax(610 nm) | Frac Oct | 3281 | 3769 | 4258 | 0.30\n",
      "mos4k4c Rmin(590 nm) | Rcen(675 nm) | Rmax(760 nm) | Frac Oct | 3391 | 3880 | 4369 | 0.29\n",
      "mos4k4c Rmin(740 nm) | Rcen(855 nm) | Rmax(970 nm) | Frac Oct | 3144 | 3633 | 4121 | 0.31\n",
      " \n",
      "mos6k4c Rmin(370 nm) | Rcen(430 nm) | Rmax(490 nm) | Frac Oct | 4534 | 5270 | 6005 | 0.32\n",
      "mos6k4c Rmin(470 nm) | Rcen(540 nm) | Rmax(610 nm) | Frac Oct | 4937 | 5672 | 6408 | 0.30\n",
      "mos6k4c Rmin(590 nm) | Rcen(675 nm) | Rmax(760 nm) | Frac Oct | 5104 | 5839 | 6575 | 0.29\n",
      "mos6k4c Rmin(740 nm) | Rcen(855 nm) | Rmax(970 nm) | Frac Oct | 4732 | 5467 | 6202 | 0.31\n",
      " \n",
      "mos4k4c-IR Rmin(370 nm) | Rcen(450 nm) | Rmax(530 nm) | Frac Oct | 2260 | 2748 | 3237 | 0.43\n",
      "mos4k4c-IR Rmin(510 nm) | Rcen(610 nm) | Rmax(710 nm) | Frac Oct | 2492 | 2980 | 3469 | 0.39\n",
      "mos4k4c-IR Rmin(700 nm) | Rcen(835 nm) | Rmax(970 nm) | Frac Oct | 2533 | 3022 | 3511 | 0.39\n",
      "mos4k4c-IR Rmin(960 nm) | Rcen(1130 nm) | Rmax(1300 nm) | Frac Oct | 2759 | 3248 | 3736 | 0.35\n",
      " \n",
      "spectrograph magnification  mos6k2c: 0.38  mos4k4c: 0.38  mos6k4c: 0.38  mos4k4c-IR: 0.38 \n",
      "collimator F-ratio  mos6k2c: 2.66  mos4k4c: 2.66  mos6k4c: 2.66  mos4k4c-IR: 2.66 \n",
      "camera F-ratio  mos6k2c: 1.00  mos4k4c: 1.00  mos6k4c: 1.00  mos4k4c-IR: 1.00 \n",
      "\n",
      "*** telescope parameters ***\n",
      "telescope diameter  mos6k2c: 11.65 m  mos4k4c: 11.65 m  mos6k4c: 11.65 m  mos4k4c-IR: 11.65 m \n",
      "telescope F-ratio  mos6k2c: 2.80  mos4k4c: 2.80  mos6k4c: 2.80  mos4k4c-IR: 2.80 \n",
      "\n",
      "*** fiber parameters ***\n",
      "fiber core diameter on-sky  mos6k2c: 1.00 arcsec mos4k4c: 1.00 arcsec mos6k4c: 1.00 arcsec mos4k4c-IR: 1.00 arcsec\n",
      "fiber core diameter physical  mos6k2c:  158 microns  mos4k4c:  158 microns  mos6k4c:  158 microns  mos4k4c-IR:  158 microns \n",
      "fiber core diameter image  mos6k2c: 3.96 px mos4k4c: 3.96 px mos6k4c: 3.96 px mos4k4c-IR: 3.96 px\n",
      "fiber pitch  mos6k2c: 318 microns mos4k4c: 318 microns mos6k4c: 318 microns mos4k4c-IR: 318 microns\n",
      "max number of fibers/spectrograph  mos6k2c: 766  mos4k4c: 509  mos6k4c: 766  mos4k4c-IR: 509 \n",
      "max slit length mos6k2c: 243.5 mm  mos4k4c: 161.8 mm  mos6k4c: 243.5 mm  mos4k4c-IR: 161.8 mm \n",
      "number of dark pixels between adjacent fiber cores  mos6k2c: 4.0 px  mos4k4c: 4.0 px  mos6k4c: 4.0 px  mos4k4c-IR: 4.0 px \n",
      "focal ratio degradation  mos6k2c: 0.95  mos4k4c: 0.95  mos6k4c: 0.95  mos4k4c-IR: 0.95 \n",
      "LSF FWHM  mos6k2c: 4.15 px  mos4k4c: 4.15 px  mos6k4c: 4.15 px  mos4k4c-IR: 4.15 px \n",
      "\n",
      "*** detector parameters ***\n",
      "detector format (spatial x spectral / pitch)  mos6k2c: 6144x6144/15mu  mos4k4c: 4096x4096/15mu  mos6k4c: 6144x6144/15mu  mos4k4c-IR: 4096x4096/15mu \n",
      "sky-projected pixel pitch  mos6k2c: 0.25 arcsec  mos4k4c: 0.25 arcsec  mos6k4c: 0.25 arcsec  mos4k4c-IR: 0.25 arcsec \n",
      "alignment margin (physical)  mos6k2c: 300 microns mos4k4c: 300 microns mos6k4c: 300 microns mos4k4c-IR: 300 microns\n",
      "alignment margin (image)  mos6k2c: 400 px mos4k4c: 400 px mos6k4c: 400 px mos4k4c-IR: 400 px\n",
      "\n",
      "*** numbers for 20k fibers ***\n",
      "number of spectrograph  mos6k2c: 26.1  mos4k4c: 39.3  mos6k4c: 26.1  mos4k4c-IR: 39.3 \n",
      "number of detectors  mos6k2c: 52.2  mos4k4c: 157.1  mos6k4c: 104.4  mos4k4c-IR: 157.1 \n"
     ]
    }
   ],
   "source": [
    "compare_res([res1,res2,res3,res4],[mospar1,mospar2,mospar3,mospar4],['mos6k2c','mos4k4c','mos6k4c','mos4k4c-IR'])"
   ]
  },
  {
   "cell_type": "markdown",
   "id": "3358694c-f224-4898-9853-2eec67250237",
   "metadata": {},
   "source": [
    "# Impact of camera f-ratio"
   ]
  },
  {
   "cell_type": "code",
   "execution_count": 120,
   "id": "01c85bbb-7679-4851-b1b0-a93631d5818e",
   "metadata": {},
   "outputs": [
    {
     "name": "stdout",
     "output_type": "stream",
     "text": [
      "*** spectrograph ***\n",
      "mos6k-fcam1.0 Rmin(350 nm) | Rcen(485 nm) | Rmax(620 nm) | Frac Oct | 1906 | 2642 | 3377 | 0.77\n",
      "mos6k-fcam1.0 Rmin(600 nm) | Rcen(785 nm) | Rmax(970 nm) | Frac Oct | 2385 | 3120 | 3855 | 0.62\n",
      " \n",
      "mos6k-fcam1.8 Rmin(350 nm) | Rcen(485 nm) | Rmax(620 nm) | Frac Oct | 1059 | 1468 | 1876 | 0.77\n",
      "mos6k-fcam1.8 Rmin(600 nm) | Rcen(785 nm) | Rmax(970 nm) | Frac Oct | 1325 | 1733 | 2142 | 0.62\n",
      " \n",
      "mos4k-fcam1.8 Rmin(350 nm) | Rcen(440 nm) | Rmax(530 nm) | Frac Oct | 1056 | 1327 | 1599 | 0.51\n",
      "mos4k-fcam1.8 Rmin(510 nm) | Rcen(578 nm) | Rmax(645 nm) | Frac Oct | 2051 | 2322 | 2594 | 0.26\n",
      "mos4k-fcam1.8 Rmin(625 nm) | Rcen(708 nm) | Rmax(790 nm) | Frac Oct | 2056 | 2328 | 2599 | 0.26\n",
      "mos4k-fcam1.8 Rmin(770 nm) | Rcen(870 nm) | Rmax(970 nm) | Frac Oct | 2090 | 2362 | 2633 | 0.26\n",
      " \n",
      "spectrograph magnification  mos6k-fcam1.0: 0.38  mos6k-fcam1.8: 0.68  mos4k-fcam1.8: 0.68 \n",
      "collimator F-ratio  mos6k-fcam1.0: 2.66  mos6k-fcam1.8: 2.66  mos4k-fcam1.8: 2.66 \n",
      "camera F-ratio  mos6k-fcam1.0: 1.00  mos6k-fcam1.8: 1.80  mos4k-fcam1.8: 1.80 \n",
      "\n",
      "*** telescope parameters ***\n",
      "telescope diameter  mos6k-fcam1.0: 11.65 m  mos6k-fcam1.8: 11.65 m  mos4k-fcam1.8: 11.65 m \n",
      "telescope F-ratio  mos6k-fcam1.0: 2.80  mos6k-fcam1.8: 2.80  mos4k-fcam1.8: 2.80 \n",
      "\n",
      "*** fiber parameters ***\n",
      "fiber core diameter on-sky  mos6k-fcam1.0: 1.00 arcsec mos6k-fcam1.8: 1.00 arcsec mos4k-fcam1.8: 1.00 arcsec\n",
      "fiber core diameter physical  mos6k-fcam1.0:  158 microns  mos6k-fcam1.8:  158 microns  mos4k-fcam1.8:  158 microns \n",
      "fiber core diameter image  mos6k-fcam1.0: 3.96 px mos6k-fcam1.8: 7.13 px mos4k-fcam1.8: 7.13 px\n",
      "fiber pitch  mos6k-fcam1.0: 318 microns mos6k-fcam1.8: 247 microns mos4k-fcam1.8: 247 microns\n",
      "max number of fibers/spectrograph  mos6k-fcam1.0: 766  mos6k-fcam1.8: 548  mos4k-fcam1.8: 364 \n",
      "max slit length mos6k-fcam1.0: 243.5 mm  mos6k-fcam1.8: 135.3 mm  mos4k-fcam1.8: 89.9 mm \n",
      "number of dark pixels between adjacent fiber cores  mos6k-fcam1.0: 4.0 px  mos6k-fcam1.8: 4.0 px  mos4k-fcam1.8: 4.0 px \n",
      "focal ratio degradation  mos6k-fcam1.0: 0.95  mos6k-fcam1.8: 0.95  mos4k-fcam1.8: 0.95 \n",
      "LSF FWHM  mos6k-fcam1.0: 4.15 px  mos6k-fcam1.8: 7.47 px  mos4k-fcam1.8: 7.47 px \n",
      "\n",
      "*** detector parameters ***\n",
      "detector format (spatial x spectral / pitch)  mos6k-fcam1.0: 6144x6144/15mu  mos6k-fcam1.8: 6144x6144/15mu  mos4k-fcam1.8: 4096x4096/15mu \n",
      "sky-projected pixel pitch  mos6k-fcam1.0: 0.25 arcsec  mos6k-fcam1.8: 0.14 arcsec  mos4k-fcam1.8: 0.14 arcsec \n",
      "alignment margin (physical)  mos6k-fcam1.0: 300 microns mos6k-fcam1.8: 300 microns mos4k-fcam1.8: 300 microns\n",
      "alignment margin (image)  mos6k-fcam1.0: 400 px mos6k-fcam1.8: 400 px mos4k-fcam1.8: 400 px\n",
      "\n",
      "*** numbers for 20k fibers ***\n",
      "number of spectrograph  mos6k-fcam1.0: 26.1  mos6k-fcam1.8: 36.5  mos4k-fcam1.8: 54.9 \n",
      "number of detectors  mos6k-fcam1.0: 52.2  mos6k-fcam1.8: 73.0  mos4k-fcam1.8: 219.6 \n"
     ]
    }
   ],
   "source": [
    "mospar3 = mospar1.copy()\n",
    "mospar3['fcam'] = 1.8\n",
    "res3 = comp_mos(mospar3)\n",
    "mospar4 = mospar2.copy()\n",
    "mospar4['fcam'] = 1.8\n",
    "res4 = comp_mos(mospar4)\n",
    "compare_res([res1,res3,res4],[mospar1,mospar3,mospar4],['mos6k-fcam1.0','mos6k-fcam1.8','mos4k-fcam1.8'])"
   ]
  },
  {
   "cell_type": "markdown",
   "id": "36797310-bafb-429e-bb18-bcd70e8aaaac",
   "metadata": {},
   "source": [
    "# Impact of tel f-ratio"
   ]
  },
  {
   "cell_type": "code",
   "execution_count": 121,
   "id": "322e9671-8212-4fb0-a378-0c9cccce006b",
   "metadata": {},
   "outputs": [
    {
     "name": "stdout",
     "output_type": "stream",
     "text": [
      "*** spectrograph ***\n",
      "mos6k-ftel2.8 Rmin(350 nm) | Rcen(485 nm) | Rmax(620 nm) | Frac Oct | 1906 | 2642 | 3377 | 0.77\n",
      "mos6k-ftel2.8 Rmin(600 nm) | Rcen(785 nm) | Rmax(970 nm) | Frac Oct | 2385 | 3120 | 3855 | 0.62\n",
      " \n",
      "mos6k-ftel1.4 Rmin(350 nm) | Rcen(485 nm) | Rmax(620 nm) | Frac Oct | 1906 | 2642 | 3377 | 0.77\n",
      "mos6k-ftel1.4 Rmin(600 nm) | Rcen(785 nm) | Rmax(970 nm) | Frac Oct | 2385 | 3120 | 3855 | 0.62\n",
      " \n",
      "spectrograph magnification  mos6k-ftel2.8: 0.38  mos6k-ftel1.4: 0.75 \n",
      "collimator F-ratio  mos6k-ftel2.8: 2.66  mos6k-ftel1.4: 1.33 \n",
      "camera F-ratio  mos6k-ftel2.8: 1.00  mos6k-ftel1.4: 1.00 \n",
      "\n",
      "*** telescope parameters ***\n",
      "telescope diameter  mos6k-ftel2.8: 11.65 m  mos6k-ftel1.4: 11.65 m \n",
      "telescope F-ratio  mos6k-ftel2.8: 2.80  mos6k-ftel1.4: 1.40 \n",
      "\n",
      "*** fiber parameters ***\n",
      "fiber core diameter on-sky  mos6k-ftel2.8: 1.00 arcsec mos6k-ftel1.4: 1.00 arcsec\n",
      "fiber core diameter physical  mos6k-ftel2.8:  158 microns  mos6k-ftel1.4:  79 microns \n",
      "fiber core diameter image  mos6k-ftel2.8: 3.96 px mos6k-ftel1.4: 3.96 px\n",
      "fiber pitch  mos6k-ftel2.8: 318 microns mos6k-ftel1.4: 159 microns\n",
      "max number of fibers/spectrograph  mos6k-ftel2.8: 766  mos6k-ftel1.4: 766 \n",
      "max slit length mos6k-ftel2.8: 243.5 mm  mos6k-ftel1.4: 121.8 mm \n",
      "number of dark pixels between adjacent fiber cores  mos6k-ftel2.8: 4.0 px  mos6k-ftel1.4: 4.0 px \n",
      "focal ratio degradation  mos6k-ftel2.8: 0.95  mos6k-ftel1.4: 0.95 \n",
      "LSF FWHM  mos6k-ftel2.8: 4.15 px  mos6k-ftel1.4: 4.15 px \n",
      "\n",
      "*** detector parameters ***\n",
      "detector format (spatial x spectral / pitch)  mos6k-ftel2.8: 6144x6144/15mu  mos6k-ftel1.4: 6144x6144/15mu \n",
      "sky-projected pixel pitch  mos6k-ftel2.8: 0.25 arcsec  mos6k-ftel1.4: 0.25 arcsec \n",
      "alignment margin (physical)  mos6k-ftel2.8: 300 microns mos6k-ftel1.4: 300 microns\n",
      "alignment margin (image)  mos6k-ftel2.8: 400 px mos6k-ftel1.4: 400 px\n",
      "\n",
      "*** numbers for 20k fibers ***\n",
      "number of spectrograph  mos6k-ftel2.8: 26.1  mos6k-ftel1.4: 26.1 \n",
      "number of detectors  mos6k-ftel2.8: 52.2  mos6k-ftel1.4: 52.2 \n"
     ]
    }
   ],
   "source": [
    "mospar3 = mospar1.copy()\n",
    "mospar3['ftel'] = 1.4\n",
    "res3 = comp_mos(mospar3)\n",
    "compare_res([res1,res3],[mospar1,mospar3],['mos6k-ftel2.8','mos6k-ftel1.4'])"
   ]
  },
  {
   "cell_type": "code",
   "execution_count": null,
   "id": "92def818-d9b1-4f02-81a3-e58df44cd3ac",
   "metadata": {},
   "outputs": [],
   "source": []
  }
 ],
 "metadata": {
  "kernelspec": {
   "display_name": "Python 3",
   "language": "python",
   "name": "python3"
  },
  "language_info": {
   "codemirror_mode": {
    "name": "ipython",
    "version": 3
   },
   "file_extension": ".py",
   "mimetype": "text/x-python",
   "name": "python",
   "nbconvert_exporter": "python",
   "pygments_lexer": "ipython3",
   "version": "3.8.1"
  }
 },
 "nbformat": 4,
 "nbformat_minor": 5
}

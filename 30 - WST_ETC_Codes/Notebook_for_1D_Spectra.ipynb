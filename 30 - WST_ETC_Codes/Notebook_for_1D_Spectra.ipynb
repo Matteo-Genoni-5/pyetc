{
 "cells": [
  {
   "cell_type": "code",
   "execution_count": 1,
   "id": "da9a09a8",
   "metadata": {},
   "outputs": [],
   "source": [
    "#uncomment to clean up the variables\n",
    "#%reset -f"
   ]
  },
  {
   "cell_type": "code",
   "execution_count": 2,
   "id": "207ff4f6",
   "metadata": {},
   "outputs": [],
   "source": [
    "#make sure you installed the pyetc and is in the correct folder\n",
    "from pyetc_dev import *\n",
    "\n",
    "#install the other packages needed\n",
    "import os\n",
    "import matplotlib.pyplot as plt\n",
    "from astropy import constants\n",
    "import skycalc_ipy\n",
    "from mpdaf.obj import Spectrum\n",
    "\n",
    "import warnings\n",
    "warnings.filterwarnings('ignore')"
   ]
  },
  {
   "cell_type": "code",
   "execution_count": 3,
   "id": "5962d0b3",
   "metadata": {},
   "outputs": [],
   "source": [
    "# convenient function for the range check\n",
    "def check_range(arr, M_min, M_max):\n",
    "    \n",
    "    if arr[0] > M_min:\n",
    "        print('Trace starts after the first pixel!')\n",
    "    if arr[-1] < M_max:\n",
    "        print('Trace ends before the last pixel!')\n",
    "\n",
    "def check_line(cen, fwhm, M_min, M_max):\n",
    "    if cen > M_max:\n",
    "        print('Line outside the last pixel!')\n",
    "    elif cen + fwhm > M_max:\n",
    "        print('Line near the last pixel!')\n",
    "    if cen < M_min:\n",
    "        print('Line outside the first pixel!')\n",
    "    elif cen - fwhm < M_min:\n",
    "        print('Line near the first pixel!')\n",
    "\n",
    "# set up the WST container\n",
    "obj_WST = WST(log = 'DEBUG', skip_dataload = False)\n",
    "\n",
    "# set up the spectral calibration \n",
    "phot_system = PhotometricSystem()\n",
    "sed_models = SEDModels()\n",
    "filter_manager = FilterManager(phot_system)\n",
    "\n",
    "# build the observation\n",
    "def build_obs_full(container_wst, fo):\n",
    "    \n",
    "    insfam = getattr(container_wst, fo[\"INS\"]) \n",
    "    CONF = insfam[fo[\"CH\"]]\n",
    "    \n",
    "    #work-around for the definition of the spectral type for the cont/line:\n",
    "    \n",
    "    if fo[\"SPEC\"] == 'line':\n",
    "        dummy_type = 'line'\n",
    "    elif fo[\"SPEC\"] in ('template', 'pl', 'bb'):\n",
    "        dummy_type = 'cont'\n",
    "        \n",
    "    obs = dict(\n",
    "    moon=fo[\"MOON\"],\n",
    "    airmass = fo[\"AM\"],\n",
    "    seeing = fo[\"SEE\"],\n",
    "    ndit = fo[\"NDIT\"],\n",
    "    dit = fo[\"DIT\"],\n",
    "    spec_type = dummy_type,\n",
    "    spec_range_type = fo[\"SPEC_RANGE\"],\n",
    "    spec_range_kfwhm = fo[\"SPEC_KFWHM\"],\n",
    "    spec_range_hsize_spectels = fo[\"SPEC_HSIZE\"],  \n",
    "    ima_type = fo[\"OBJ\"],\n",
    "    ima_area = fo[\"IMA_AREA\"],\n",
    "    ima_aperture_type = fo[\"IMA_RANGE\"],\n",
    "    ima_kfwhm = fo[\"IMA_KFWHM\"],\n",
    "    ima_aperture_hsize_spaxels = fo[\"IMA_HSIZE\"],\n",
    "    skycalc = fo[\"SKYCALC\"]\n",
    ")\n",
    "    \n",
    "# compute the sky here if necessary\n",
    "    if fo[\"SKYCALC\"]:\n",
    "        obs[\"skyemi_lsf\"], obs[\"skyabs\"], obs[\"skyemi\"]  = get_sky2(container_wst, fo)\n",
    "    \n",
    "    container_wst.set_obs(obs)\n",
    "    \n",
    "    #we compute the value here\n",
    "    spec_input, spec, spec_conv =  get_spec2(container_wst, fo)\n",
    "    \n",
    "    #here the mpdaf image only in the resolved case\n",
    "    ima = None\n",
    "    if fo['OBJ'] == 'resolved':\n",
    "        dima = {\n",
    "            'type': fo[\"IMA\"],\n",
    "            'fwhm': fo[\"IMA_FWHM\"], \n",
    "            'beta': fo[\"IMA_BETA\"],\n",
    "            'n': fo[\"IMA_N\"],\n",
    "            'reff': fo[\"IMA_REFF\"],\n",
    "            'ell': fo[\"IMA_ELL\"],\n",
    "            'kfwhm': fo[\"IMA_KFWHM\"],\n",
    "            'kreff': fo[\"IMA_KREFF\"],\n",
    "        }\n",
    "        ima = container_wst.get_ima(CONF, dima)\n",
    "        \n",
    "    old_flux = 1\n",
    "        \n",
    "    if (fo[\"OPT_SPEC\"]) & (fo[\"SPEC_RANGE\"] == \"adaptative\") & (dummy_type == \"line\"):\n",
    "        container_wst.optimum_spectral_range(CONF, old_flux, ima, spec)\n",
    "\n",
    "    if (fo[\"OPT_IMA\"]) & (fo[\"IMA_RANGE\"] == \"circular_adaptative\") & (fo[\"OBJ\"] in ('ps', 'resolved')):\n",
    "        A = CONF['lbda1']\n",
    "        B = CONF['lbda2']\n",
    "        f = fo['FRAC_SPEC_MEAN_OPT_IMAGE']\n",
    "\n",
    "        delta = (1 - f) / 2\n",
    "        AA = A + delta * (B - A)\n",
    "        BB = B - delta * (B - A)\n",
    "        \n",
    "        #done with the mean SNR in a range defined around the center by the factor f\n",
    "        container_wst.optimum_circular_aperture(CONF, old_flux, ima, spec, lrange=[AA,BB])\n",
    "    \n",
    "    return CONF, obs, spec_conv, spec, spec_input, obs[\"skyemi_lsf\"], obs[\"skyemi\"], obs[\"skyabs\"], CONF['instrans'], ima\n",
    "\n",
    "# spec computation \n",
    "def get_spec2(container_wst, fo, oversamp = 1):\n",
    "\n",
    "    insfam = getattr(container_wst, fo[\"INS\"]) \n",
    "    CONF = insfam[fo[\"CH\"]]\n",
    "    \n",
    "    lstep = CONF['instrans'].get_step()\n",
    "    l1,l2 = CONF['instrans'].get_start(), CONF['instrans'].get_end()\n",
    "        \n",
    "    if fo['SPEC'] == 'template':\n",
    "        name, DEFAULT_WAVE, flux =  sed_models.template(f\"{fo['TEMP_NAME']}.dat\")\n",
    "        redshift = fo['Z']\n",
    "        band = fo['FIL']\n",
    "        mag = fo['MAG']\n",
    "        syst = fo['SYS']\n",
    "\n",
    "        mag, syst = phot_system.auto_conversion(mag, band, syst)\n",
    "\n",
    "        #redshift correction\n",
    "        DEFAULT_WAVE *= (1+redshift)\n",
    "        \n",
    "        #check if it's all inside the range of the instrumental setup\n",
    "        check_range(DEFAULT_WAVE, l1, l2)\n",
    "\n",
    "        _, _, K = filter_manager.apply_filter(DEFAULT_WAVE, flux, band, mag, syst)\n",
    "\n",
    "    elif fo['SPEC'] == 'bb':\n",
    "        DEFAULT_WAVE = np.linspace(100,30000,10000)\n",
    "        tmp = fo['TEMP']\n",
    "        band = fo['FIL']\n",
    "        mag = fo['MAG']\n",
    "        syst = fo['SYS']\n",
    "    \n",
    "        flux =  sed_models.blackbody(DEFAULT_WAVE,tmp)\n",
    "\n",
    "        mag, syst = phot_system.auto_conversion(mag, band, syst)\n",
    "\n",
    "        _, _, K = filter_manager.apply_filter(DEFAULT_WAVE, flux, band, mag, syst)\n",
    "    \n",
    "    \n",
    "    elif fo['SPEC'] == 'pl':\n",
    "        DEFAULT_WAVE = np.linspace(100,30000,10000)\n",
    "        indpl = fo['INDEX']\n",
    "        band = fo['FIL']\n",
    "        mag = fo['MAG']\n",
    "        syst = fo['SYS']\n",
    "        \n",
    "        flux =  sed_models.powerlaw(DEFAULT_WAVE, indpl)\n",
    "\n",
    "        mag, syst = phot_system.auto_conversion(mag, band, syst)\n",
    "\n",
    "        _, _, K = filter_manager.apply_filter(DEFAULT_WAVE, flux, band, mag, syst)\n",
    "    \n",
    "    elif fo['SPEC'] == 'line':\n",
    "        DEFAULT_WAVE = np.linspace(100,30000,10000)\n",
    "        \n",
    "        center = fo['INDEX']\n",
    "        band = fo['FIL']\n",
    "        mag = fo['MAG']\n",
    "        syst = fo['SYS']\n",
    "    \n",
    "        center = fo['WAVE_CENTER']\n",
    "        fwhm = fo['WAVE_FWHM']\n",
    "        \n",
    "        check_line(center, fwhm, l1, l2)\n",
    "\n",
    "        tot_flux = fo['FLUX']\n",
    "\n",
    "        flux = sed_models.gaussian_line(DEFAULT_WAVE, center, tot_flux, fwhm)\n",
    "    \n",
    "        K = 1\n",
    "        oversamp = 10\n",
    "        \n",
    "    # put wave and flux*K in a MPDAF object here\n",
    "    spec_raw = Spectrum(data=flux*K, wave=WaveCoord(cdelt=DEFAULT_WAVE[1]-DEFAULT_WAVE[0], crval=DEFAULT_WAVE[0]))\n",
    "    \n",
    "    # resample\n",
    "    rspec = spec_raw.resample(lstep, start=l1)\n",
    "    rspec = rspec.subspec(lmin=l1, lmax=l2)\n",
    "    spec_cut = rspec\n",
    "    \n",
    "    spec_cut.oversamp = oversamp\n",
    "    \n",
    "    spec_cut_lsf = spec_cut.filter(width=CONF['lsfpix'])\n",
    "    \n",
    "    return spec_raw, spec_cut, spec_cut_lsf\n",
    "\n",
    "# sky computation\n",
    "def sun_moon_sep(fli):\n",
    "    if not 0 <= fli <= 1:\n",
    "        raise ValueError(\"FLI must be between 0 and 1.\")\n",
    "    theta_rad = np.arccos(1 - 2 * fli)  # result in radians\n",
    "    theta_deg = np.degrees(theta_rad)  # convert to degrees\n",
    "    return theta_deg\n",
    "\n",
    "def compute_sky2(container_wst, fo):\n",
    "    insfam = getattr(container_wst, fo[\"INS\"]) \n",
    "    CONF = insfam[fo[\"CH\"]]\n",
    "    \n",
    "    mss = sun_moon_sep(fo['FLI'])\n",
    "    airmass = fo['AM']\n",
    "    pwv = fo['PWV']\n",
    "    allowed_pwv = [0.05, 0.01, 0.25, 0.5, 1.0, 1.5, 2.5, 3.5, 5.0, 7.5, 10.0, 20.0, 30.0]\n",
    "    closest_value = min(allowed_pwv, key=lambda v: abs(v - pwv))\n",
    "\n",
    "    if pwv not in allowed_pwv:\n",
    "        print(f\"PWV value not allowed, assigned the closest one: {pwv} → {closest_value}\")\n",
    "        pwv = closest_value\n",
    "    \n",
    "    skycalc = skycalc_ipy.SkyCalc()\n",
    "\n",
    "    skycalc[\"msolflux\"] = 130\n",
    "    skycalc['observatory'] = 'paranal'\n",
    "    skycalc['airmass'] = airmass\n",
    "    skycalc['pwv'] = pwv\n",
    "    skycalc['moon_sun_sep'] = mss\n",
    "    \n",
    "    skycalc['wmin'] = CONF['lbda1']/10\n",
    "    skycalc['wmax'] = CONF['lbda2']/10\n",
    "    skycalc['wdelta'] = CONF['dlbda']/10\n",
    "    \n",
    "    skycalc['wgrid_mode'] = 'fixed_wavelength_step'\n",
    "    skycalc['wres'] = 20000 #not sure it is used somewhere, for now I keep it\n",
    "\n",
    "    tbl = skycalc.get_sky_spectrum(return_type=\"tab-ext\")\n",
    "    \n",
    "    if abs(tbl['lam'][0]*10 - CONF['lbda1'])>CONF['dlbda'] or \\\n",
    "       abs(tbl['lam'][-1]*10 - CONF['lbda2'])>CONF['dlbda'] or \\\n",
    "       abs(tbl['lam'][1]- tbl['lam'][0])*10 - CONF['dlbda']>0.01:\n",
    "        raise ValueError(f'Incompatible bounds between called configuration and setup')\n",
    "    \n",
    "    d = dict()\n",
    "    d['emi_orig'] = Spectrum(data = tbl['flux'], wave = CONF['wave'])\n",
    "    d['emi'] = d['emi_orig'].filter(width=CONF['lsfpix'])\n",
    "    d['abs'] = Spectrum(data = tbl['trans'], wave = CONF['wave'])\n",
    "    \n",
    "    return d, tbl\n",
    "\n",
    "# to return the emission and transmission of the sky\n",
    "def get_sky2(container_wst, fo):\n",
    "    d, _ = compute_sky2(container_wst, fo)\n",
    "    return d['emi'], d['abs'], d['emi_orig']"
   ]
  },
  {
   "cell_type": "code",
   "execution_count": 4,
   "id": "05ad493b",
   "metadata": {
    "scrolled": true
   },
   "outputs": [
    {
     "data": {
      "text/plain": [
       "['U', 'B', 'V', 'R', 'I', 'J', 'H', 'K']"
      ]
     },
     "execution_count": 4,
     "metadata": {},
     "output_type": "execute_result"
    }
   ],
   "source": [
    "#this to see the available filters Vega\n",
    "filter_manager.phot_system.filters_vega"
   ]
  },
  {
   "cell_type": "code",
   "execution_count": 5,
   "id": "cee43181",
   "metadata": {},
   "outputs": [
    {
     "data": {
      "text/plain": [
       "['uSDSS',\n",
       " 'gSDSS',\n",
       " 'rSDSS',\n",
       " 'iSDSS',\n",
       " 'zSDSS',\n",
       " 'uLSST',\n",
       " 'gLSST',\n",
       " 'rLSST',\n",
       " 'iLSST',\n",
       " 'zLSST']"
      ]
     },
     "execution_count": 5,
     "metadata": {},
     "output_type": "execute_result"
    }
   ],
   "source": [
    "#this to see the available filters AB\n",
    "filter_manager.phot_system.filters_AB"
   ]
  },
  {
   "cell_type": "code",
   "execution_count": 6,
   "id": "567783e6",
   "metadata": {},
   "outputs": [
    {
     "data": {
      "text/plain": [
       "dict_keys(['Pickles_O5V', 'Kinney_starb5', 'Kinney_starb4', 'Kinney_sa', 'Kinney_starb6', 'Pickles_O9V', 'Kinney_sb', 'Galev_E', 'Pickles_B2IV', 'Kinney_s0', 'Kinney_starb3', 'Kinney_starb2', 'Pickles_A0III', 'Kinney_starb1', 'Pickles_A0V', 'Pickles_K2V', 'Kurucz_B8V', 'Pickles_G0V', 'Pickles_M2V', 'Kurucz_G2V', 'Pickles_B9III', 'Kurucz_A1V', 'Pickles_B9V', 'Kurucz_B1V', 'Kurucz_F0V', 'Kinney_ell', 'Pickles_K7V', 'qso-interp'])"
      ]
     },
     "execution_count": 6,
     "metadata": {},
     "output_type": "execute_result"
    }
   ],
   "source": [
    "#this to see all the available templates\n",
    "sed_models.eso_spectra_files.keys()"
   ]
  },
  {
   "cell_type": "markdown",
   "id": "0fa64366",
   "metadata": {},
   "source": [
    "### DIctionary notes\n",
    "\n",
    "for the 1D spectrum you have listed between `INS` and `WAVE_FWHM`\n",
    "\n",
    "- (1) `INS`: is the *instrument*, can be `ifs`, `moshr` (high resolution), `moslr` (low resolution).\n",
    "\n",
    "\n",
    "- (2) `CH`: is the *channel*, you can see the possibilities typing `obj_WST.INS['channels]` (e.g. `obj_WST.ifs['channels']` will print `['blue', 'red']` which are the two channels of the ifs, so the two possibilites in the dictionary if you select `\"INS\": \"ifs\"` will be  `blue` or `red`.\n",
    "\n",
    "\n",
    "- (3) Sky configuration computed the from the ESO Skycalc on the fly using `PWV` (which can take only values from the following array: `[0.05, 0.01, 0.25, 0.5, 1.0, 1.5, 2.5, 3.5, 5.0, 7.5, 10.0, 20.0, 30.0]`), seeing `SEE`, moon illumination `FLI` (between 0 and 1) and the same airmass `AM`\n",
    "\n",
    "\n",
    "- (4) `SPEC` determines the type of spectrum you can have can be: blackbody (`bb`), powerlaw (`pl`), template (`template`) and emission line (`line`), for the first three the magnitude (`MAG`), system (`SYS`) and filter (`FIL`) are used to calibrate the spectrum, for the `line` the `FLUX` is used to calibrate it, then\n",
    "    - (4.1) for the `bb` the `TEMP` parameter is used (in Kelvin)\n",
    "    - (4.2) for the `pl` the `INDEX` parameter is used\n",
    "    - (4.3) for the `template` the `TEMP_NAME` is taken (look at `sed_models.eso_spectra_files.keys()` for available names), as well as the redshift `Z`\n",
    "    - (4.4) for line the `WAVE_CENTER` and `WAVE_FWHM` are needed (both in Angstrom)\n",
    "\n",
    "\n",
    "- (5) `NDIT` and `DIT` are just the nubmer of exposures and time of single exposure in seconds\n",
    "\n",
    "- (6) `OBJ` is the type of source, can be `sb` for surface brightness, `ps` for point source and `resolved` for extended case, below the parameters that will be used in case of different cases of `OBJ`, with mock values\n",
    "\n",
    "\n",
    "(A) ################ only for `resolved` ###########################################################   \n",
    "#IMA = `moffat`, `sersic`   \n",
    "\n",
    "#IMA_ELL = 0. (ellipticity, dimensionless)  \n",
    "\n",
    "Beware that the MOFFAT does not include   \n",
    "####### only for `moffat` #######  \n",
    "#IMA_FWHM = 1. in arcsec (FWHM of the moffat)  \n",
    "#IMA_BETA = 2.5 in arcsec (beta of the moffat)  \n",
    "#IMA_KFWHM = 5 by default (number of FWHM where to cut the image matrix for the normalization, leave it at 5 at least)  \n",
    "###############################  \n",
    "\n",
    "####### only for `sersic` #######  \n",
    "#IMA_REFF = 1. in arcsec (effective radiuses)  \n",
    "#IMA_N = 2. dimensionless (index of the Sersic, between 0.5 and 4 makes sense)  \n",
    "#IMA_KREFF = 6 by default (number of reff where to cut the image matrix for the normalization, leave it at 6 at least)    \n",
    "###############################  \n",
    "\n",
    "###############################################################################################\n",
    "\n",
    "(B) ################ only for `sb` ################################################################  \n",
    "#IMA_AREA = 1. arcsec, area to use for the SNR computation  \n",
    "###############################################################################################  \n",
    "\n",
    "(C) ################ only for `ps` and `resolved` #####################################################   \n",
    "#IMA_RANGE = circular_adaptative, square_fixed  \n",
    "\n",
    "####### only for `square_fixed` #######  \n",
    "#IMA_HSIZE = 5 [range will be 2 * IMA_HSIZE + 1] #INTEGER number of pixels per side to cut the image  \n",
    "##################################  \n",
    "\n",
    "####### only for `circular_adaptative` #######  \n",
    "#IMA_KFWHM = 3 [range will be +- IMA_KFWHM] number of FWHM used to cut the image  \n",
    "#OPT_IMA = True, to compute the best IMA_KFWHM for the maximization of the SNR  \n",
    "######################################  \n",
    "################################################################################################\n",
    "\n",
    "\n",
    "Regarding the spectrum instead there are a few more twicks when taking into account the `line`\n",
    "\n",
    "################ only for `line` #############################  \n",
    "#SPEC_range = fixed, adaptative, None  \n",
    "\n",
    "####### only for `fixed` #######  \n",
    "#SPEC_HSIZE = 5 [range will be 2 * SPEC_HSIZE + 1]  \n",
    "##############################  \n",
    "\n",
    "####### only for `adaptative` #######  \n",
    "#SPEC_KFWHM = 3 [range will be +- SPEC_KFWHM]  \n",
    "#OPT_SPEC = True, to compute the best SPEC_KFWHM for the maximization of the SNR  \n",
    "################################### \n",
    "\n",
    "\n",
    "You can leave the last three parameters (`SKYCALC`, `MOON` and `FRAC_SPEC_MEAN_OPT_IMAGE` as they are"
   ]
  },
  {
   "cell_type": "code",
   "execution_count": 7,
   "id": "2a3f9062",
   "metadata": {},
   "outputs": [],
   "source": [
    "\n",
    "full_obs = {\n",
    "    \"INS\": \"ifs\",\n",
    "    \"CH\": \"red\",\n",
    "    \n",
    "    \"PWV\": 3.5,\n",
    "    \"FLI\": 0.5,\n",
    "    \"SEE\": 1.0,\n",
    "    \"AM\": 1.0,\n",
    "    \n",
    "    \n",
    "    \"SPEC\": 'template',\n",
    "    \n",
    "    \"MAG\": 20,\n",
    "    \"SYS\": 'Vega',\n",
    "    \"FIL\": 'R',\n",
    "    \"FLUX\": 50e-16,\n",
    "    \n",
    "    \"TEMP_NAME\": 'Pickles_A0V',  \n",
    "    \"Z\": 1,\n",
    "    \"TEMP\": 5000.,\n",
    "    \"INDEX\": -2.,\n",
    "    \"WAVE_CENTER\": 7000,\n",
    "    \"WAVE_FWHM\": 10,\n",
    "    \n",
    "    \n",
    "    \"NDIT\": 1,\n",
    "    \"DIT\": 3600.,    \n",
    "        \n",
    "    \"OBJ\": 'resolved',\n",
    "    \n",
    "    \"IMA\": 'sersic',\n",
    "    \"IMA_ELL\": 0.,\n",
    "    \n",
    "    \"IMA_FWHM\": 3.,\n",
    "    \"IMA_KFWHM\": 10,\n",
    "    \"IMA_BETA\": 2.5,\n",
    "    \n",
    "    \"IMA_REFF\": 3.00,\n",
    "    \"IMA_KREFF\": 5,\n",
    "    \"IMA_N\": 3.00,\n",
    "        \n",
    "    \"SPEC_RANGE\": 'adaptative',\n",
    "    \"SPEC_KFWHM\": 3.,\n",
    "    \"SPEC_HSIZE\": 3.,\n",
    "    \n",
    "    \"IMA_AREA\": 1.,\n",
    "    \"IMA_RANGE\": 'square_fixed',\n",
    "    \"IMA_KFWHM\": 4,\n",
    "    \"IMA_HSIZE\": 0,\n",
    "    \n",
    "    \"OPT_SPEC\": True,\n",
    "    \"OPT_IMA\": True,\n",
    "    \n",
    "    \"SKYCALC\": True,\n",
    "    \"MOON\": 'greysky',\n",
    "    \"FRAC_SPEC_MEAN_OPT_IMAGE\": 0.8\n",
    "}"
   ]
  },
  {
   "cell_type": "markdown",
   "id": "d819e115",
   "metadata": {},
   "source": [
    "### Usage"
   ]
  },
  {
   "cell_type": "code",
   "execution_count": 8,
   "id": "32daa1a0",
   "metadata": {
    "scrolled": true
   },
   "outputs": [],
   "source": [
    "con, ob, spe_conv, spe, spe_input, skyemi_conv, skyemi, skytran, instran, im = build_obs_full(obj_WST,full_obs)"
   ]
  },
  {
   "cell_type": "markdown",
   "id": "70be6534",
   "metadata": {},
   "source": [
    "From the `build_obs_full` method you get several parameters, in particular:\n",
    "\n",
    "- (1) `con` is the dictionary of the configuration (e.g. `ifs['red']`) and contains all the important parameters (e.g. wavelenght range and step, spaxel/spectel size, etc...)\n",
    "\n",
    "- (2) `ob` is a native dictionary of the original **pyetc**\n",
    "\n",
    "Then all the objects you need, in order: \n",
    "- `spe_conv`: spectrum of the source convolved with the line spread function, calibrated in magnitude/flux with range and step of the `con` choosen\n",
    "- `spe`: spectrum of the source, calibrated in magnitude/flux with range and step of the `con` choosen\n",
    "- `spe_input`: original spectrum, not cut and with default step, but calibrated in magnitude/flux\n",
    "- `skyemi_conv`: sky spectrum convolved with the line spread function, range and step of the `con` choosen\n",
    "- `skyemi`: sky spectrum, range and step of the `con` choosen\n",
    "- `skytran`: sky transmission, range and step of the `con` choosen\n",
    "- `instran`: instrument+telescope transmission, range and step of the `con` choosen\n",
    "- `im`: the image matrix (with WCS) in case of `resolved` source, `None` in case of `ps` or `sb`\n",
    "\n",
    "All the objects are either in `erg/cm^2 s AA` (also /arcsec^2 for the sky emission) or dimensionless (the transmissions)\n",
    "\n",
    "the objects are not straight arrays but objects `Spectrum` from `mpdaf.obj` class, you can extract as below the wavelenght and flux:"
   ]
  },
  {
   "cell_type": "code",
   "execution_count": 9,
   "id": "f3adfe3c",
   "metadata": {},
   "outputs": [
    {
     "data": {
      "text/plain": [
       "<Spectrum(shape=(3712,), unit='', dtype='float64')>"
      ]
     },
     "execution_count": 9,
     "metadata": {},
     "output_type": "execute_result"
    }
   ],
   "source": [
    "#example: source spectrum\n",
    "spe"
   ]
  },
  {
   "cell_type": "code",
   "execution_count": 10,
   "id": "b00c6fdc",
   "metadata": {},
   "outputs": [
    {
     "name": "stdout",
     "output_type": "stream",
     "text": [
      "[6000.   6000.97 6001.94 ... 9597.73 9598.7  9599.67]\n"
     ]
    }
   ],
   "source": [
    "wave = spe.wave.coord()\n",
    "\n",
    "print(wave)"
   ]
  },
  {
   "cell_type": "code",
   "execution_count": 11,
   "id": "59751a9c",
   "metadata": {},
   "outputs": [
    {
     "name": "stdout",
     "output_type": "stream",
     "text": [
      "[1.59560929e-17 2.14143355e-17 2.25072393e-17 ... 3.16419268e-17\n",
      " 3.16383412e-17 3.16381350e-17]\n"
     ]
    }
   ],
   "source": [
    "flux_source = spe.data.data\n",
    "\n",
    "print(flux_source)"
   ]
  },
  {
   "cell_type": "markdown",
   "id": "34705b9d",
   "metadata": {},
   "source": [
    "Anyway the object spectrum has a series of handy functions built in to to basic operations \n",
    "\n",
    "> check the documentation: https://mpdaf.readthedocs.io/en/latest/obj.html"
   ]
  },
  {
   "cell_type": "markdown",
   "id": "cc509c61",
   "metadata": {},
   "source": [
    "#example of mpdaf.obj functions\n",
    "spe.plot()"
   ]
  },
  {
   "cell_type": "markdown",
   "id": "fca5e472",
   "metadata": {},
   "source": [
    "and more as: `spe.truncate()`, `spe.get_step()`, `spe.get_start()`, `spe.filter()`, etc..."
   ]
  },
  {
   "cell_type": "markdown",
   "id": "fdb0cb6c",
   "metadata": {},
   "source": [
    "For the number of photons for the source, sky and the various noises you will have to run the `snr_from_source` routine of the pyetc, see the documentation for propert treatment of the different entries of the `res` dictionary:\n",
    "\n",
    "> https://pyetc-wst.readthedocs.io/en/latest/tutorial.html\n",
    "\n",
    "But basically you pass these:\n",
    "- `con`: the configuration such as ifs['red']\n",
    "- `im`: the image (beware this is convolved only in the case of Sersic\n",
    "- `spe`: the spectrum of the source, calibrated in magnitude/flux\n",
    "\n",
    "Second parameter is a deprecated `flux` leave it to 1"
   ]
  },
  {
   "cell_type": "code",
   "execution_count": 17,
   "id": "81028fcd",
   "metadata": {},
   "outputs": [
    {
     "name": "stdout",
     "output_type": "stream",
     "text": [
      "[DEBUG] Source type resolved & cont Flux 1.00e+00 S/N 3.2 FracFlux 0.007 Nspaxels 1 Nspectels 1\n"
     ]
    }
   ],
   "source": [
    "res = obj_WST.snr_from_source(con, 1, im, spe)"
   ]
  },
  {
   "cell_type": "markdown",
   "id": "b6cbb5f3",
   "metadata": {},
   "source": [
    "The result can have different sub-dictionaries, you can see below, in particular:\n",
    "- `cube` with the results per wavelength and spaxels (for resolved and ps)\n",
    "- `spec` with the results per wavelength integrated in the area given or computed from the parameters in the dictionary\n",
    "- `aper` (only for `line`) with the results as `floats` computed integrated in the spectral range of the line as well as in the area of the source with similar criteria as above"
   ]
  },
  {
   "cell_type": "code",
   "execution_count": 19,
   "id": "99b5c4b1",
   "metadata": {},
   "outputs": [
    {
     "data": {
      "text/plain": [
       "{'cube': {'noise': {'ron': 3.0,\n",
       "   'dark': 1.7320508075688772,\n",
       "   'sky': <Spectrum(shape=(3712,), unit='', dtype='float64')>,\n",
       "   'source': <Cube(shape=(3712, 1, 1), unit='', dtype='float64')>,\n",
       "   'tot': <Cube(shape=(3712, 1, 1), unit='', dtype='float64')>},\n",
       "  'snr': <Cube(shape=(3712, 1, 1), unit='', dtype='float64')>,\n",
       "  'nph_source': <Cube(shape=(3712, 1, 1), unit='', dtype='float64')>,\n",
       "  'nph_sky': <Spectrum(shape=(3712,), unit='', dtype='float64')>,\n",
       "  'trunc_ima': <Image(shape=(1, 1), unit='', dtype='float64')>,\n",
       "  'trunc_spec': <Spectrum(shape=(3712,), unit='', dtype='float64')>},\n",
       " 'input': {'flux_source': <Cube(shape=(3712, 1, 1), unit='', dtype='float64')>,\n",
       "  'atm_abs': <Spectrum(shape=(3712,), unit='', dtype='>f8')>,\n",
       "  'ins_trans': <Spectrum(shape=(3712,), unit='', dtype='float64')>,\n",
       "  'atm_emi': <Spectrum(shape=(3712,), unit='', dtype='>f8')>,\n",
       "  'dl': 0.97,\n",
       "  'flux': 1,\n",
       "  'moon': 'greysky',\n",
       "  'dit': 3600.0,\n",
       "  'ndit': 1,\n",
       "  'airmass': 1.0,\n",
       "  'spec_type': 'cont',\n",
       "  'ima_type': 'resolved',\n",
       "  'ima_aperture_type': 'square_fixed',\n",
       "  'ima_aperture_hsize_spaxels': 0},\n",
       " 'spec': {'snr': <Spectrum(shape=(3712,), unit='', dtype='float64')>,\n",
       "  'snr_mean': 3.1892725634671306,\n",
       "  'snr_med': 2.671099993322498,\n",
       "  'snr_max': 6.089963358082274,\n",
       "  'snr_min': 0.27909746376681555,\n",
       "  'frac_flux': 0.006735607700870721,\n",
       "  'frac_ima': 0.006735607700870721,\n",
       "  'frac_spec': 1,\n",
       "  'nb_spaxels': 1,\n",
       "  'nph_source': <Spectrum(shape=(3712,), unit='', dtype='float64')>,\n",
       "  'nph_sky': <Spectrum(shape=(3712,), unit='', dtype='float64')>,\n",
       "  'noise': {'ron': 3.0,\n",
       "   'dark': 1.7320508075688772,\n",
       "   'sky': <Spectrum(shape=(3712,), unit='', dtype='float64')>,\n",
       "   'source': <Spectrum(shape=(3712,), unit='', dtype='float64')>,\n",
       "   'tot': <Spectrum(shape=(3712,), unit='', dtype='float64')>,\n",
       "   'frac_detnoise_mean': 0.043451690165486535,\n",
       "   'frac_detnoise_max': 0.6388693112712208,\n",
       "   'frac_detnoise_min': 0.0006804924372489976,\n",
       "   'frac_detnoise_med': 0.0360553972920211,\n",
       "   'frac_detnoise_std': 0.02963522700827192}}}"
      ]
     },
     "execution_count": 19,
     "metadata": {},
     "output_type": "execute_result"
    }
   ],
   "source": [
    "res"
   ]
  },
  {
   "cell_type": "code",
   "execution_count": null,
   "id": "a08cb54f",
   "metadata": {},
   "outputs": [],
   "source": []
  }
 ],
 "metadata": {
  "kernelspec": {
   "display_name": "Python 3 (ipykernel)",
   "language": "python",
   "name": "python3"
  },
  "language_info": {
   "codemirror_mode": {
    "name": "ipython",
    "version": 3
   },
   "file_extension": ".py",
   "mimetype": "text/x-python",
   "name": "python",
   "nbconvert_exporter": "python",
   "pygments_lexer": "ipython3",
   "version": "3.9.6"
  }
 },
 "nbformat": 4,
 "nbformat_minor": 5
}
